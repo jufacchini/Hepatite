{
 "cells": [
  {
   "cell_type": "markdown",
   "metadata": {},
   "source": [
    "A hepatite é a inflamação do fígado. Pode ser causada por vírus ou pelo uso de alguns remédios, álcool e outras drogas, assim como por doenças autoimunes, metabólicas e genéticas. Em alguns casos, são doenças silenciosas que nem sempre apresentam sintomas.\n",
    "\n",
    "As hepatites virais são inflamações causadas por vírus que são classificados por letras do alfabeto em A, B, C, D (Delta) e E. No Brasil, mais de 70% (23.070) dos óbitos por hepatites virais são decorrentes da Hepatite C, seguido da Hepatite B (21,8%) e A (1,7%). O país registrou 40.198 casos novos de hepatites virais em 2017.\n",
    "\n",
    "\n",
    "\n",
    "https://archive.ics.uci.edu/ml/datasets/hepatitis"
   ]
  },
  {
   "cell_type": "code",
   "execution_count": 1,
   "metadata": {},
   "outputs": [],
   "source": [
    "import pandas as pd\n",
    "import numpy as np\n",
    "import seaborn as sns\n",
    "import matplotlib.pyplot as plt\n",
    "%matplotlib inline\n",
    "import scipy.stats as ss\n",
    "from sklearn.model_selection import train_test_split\n",
    "from imblearn.over_sampling import SMOTE\n",
    "import statsmodels.api as sm\n",
    "from sklearn.preprocessing import StandardScaler\n",
    "from sklearn.ensemble import RandomForestClassifier\n",
    "from sklearn.metrics import confusion_matrix, roc_auc_score\n",
    "from sklearn.metrics import classification_report, matthews_corrcoef, accuracy_score\n",
    "from sklearn.preprocessing import StandardScaler\n",
    "from sklearn.ensemble import AdaBoostClassifier\n",
    "from sklearn.model_selection import GridSearchCV\n",
    "from sklearn.metrics import roc_auc_score\n",
    "from sklearn.metrics import roc_curve\n",
    "from sklearn.metrics import auc"
   ]
  },
  {
   "cell_type": "code",
   "execution_count": 2,
   "metadata": {},
   "outputs": [],
   "source": [
    "#Carregando os dados\n",
    "data = pd.read_csv('dataset-data-munging-02-hepatite.data')"
   ]
  },
  {
   "cell_type": "code",
   "execution_count": 3,
   "metadata": {},
   "outputs": [],
   "source": [
    "#Nome das colunas\n",
    "colunas = ['Class', 'Age', 'Gender', 'Steroid', 'Antivirals', 'Fatigue', 'Malaise', 'Anorexia', 'LiverBig',\n",
    "                'LiverFirm', 'SpleenPalpable', 'Spiders', 'Ascites', 'Varices', 'Bilirubin','AlkPhosphate', 'SGOT',\n",
    "                'Albumin', 'Protime', 'Histology']"
   ]
  },
  {
   "cell_type": "code",
   "execution_count": 4,
   "metadata": {},
   "outputs": [],
   "source": [
    "data.columns = colunas"
   ]
  },
  {
   "cell_type": "code",
   "execution_count": 5,
   "metadata": {},
   "outputs": [
    {
     "data": {
      "text/html": [
       "<div>\n",
       "<style scoped>\n",
       "    .dataframe tbody tr th:only-of-type {\n",
       "        vertical-align: middle;\n",
       "    }\n",
       "\n",
       "    .dataframe tbody tr th {\n",
       "        vertical-align: top;\n",
       "    }\n",
       "\n",
       "    .dataframe thead th {\n",
       "        text-align: right;\n",
       "    }\n",
       "</style>\n",
       "<table border=\"1\" class=\"dataframe\">\n",
       "  <thead>\n",
       "    <tr style=\"text-align: right;\">\n",
       "      <th></th>\n",
       "      <th>Class</th>\n",
       "      <th>Age</th>\n",
       "      <th>Gender</th>\n",
       "      <th>Steroid</th>\n",
       "      <th>Antivirals</th>\n",
       "      <th>Fatigue</th>\n",
       "      <th>Malaise</th>\n",
       "      <th>Anorexia</th>\n",
       "      <th>LiverBig</th>\n",
       "      <th>LiverFirm</th>\n",
       "      <th>SpleenPalpable</th>\n",
       "      <th>Spiders</th>\n",
       "      <th>Ascites</th>\n",
       "      <th>Varices</th>\n",
       "      <th>Bilirubin</th>\n",
       "      <th>AlkPhosphate</th>\n",
       "      <th>SGOT</th>\n",
       "      <th>Albumin</th>\n",
       "      <th>Protime</th>\n",
       "      <th>Histology</th>\n",
       "    </tr>\n",
       "  </thead>\n",
       "  <tbody>\n",
       "    <tr>\n",
       "      <th>0</th>\n",
       "      <td>2</td>\n",
       "      <td>50</td>\n",
       "      <td>1</td>\n",
       "      <td>1</td>\n",
       "      <td>2</td>\n",
       "      <td>1</td>\n",
       "      <td>2</td>\n",
       "      <td>2</td>\n",
       "      <td>1</td>\n",
       "      <td>2</td>\n",
       "      <td>2</td>\n",
       "      <td>2</td>\n",
       "      <td>2</td>\n",
       "      <td>2</td>\n",
       "      <td>0.90</td>\n",
       "      <td>135</td>\n",
       "      <td>42</td>\n",
       "      <td>3.5</td>\n",
       "      <td>?</td>\n",
       "      <td>1</td>\n",
       "    </tr>\n",
       "    <tr>\n",
       "      <th>1</th>\n",
       "      <td>2</td>\n",
       "      <td>78</td>\n",
       "      <td>1</td>\n",
       "      <td>2</td>\n",
       "      <td>2</td>\n",
       "      <td>1</td>\n",
       "      <td>2</td>\n",
       "      <td>2</td>\n",
       "      <td>2</td>\n",
       "      <td>2</td>\n",
       "      <td>2</td>\n",
       "      <td>2</td>\n",
       "      <td>2</td>\n",
       "      <td>2</td>\n",
       "      <td>0.70</td>\n",
       "      <td>96</td>\n",
       "      <td>32</td>\n",
       "      <td>4.0</td>\n",
       "      <td>?</td>\n",
       "      <td>1</td>\n",
       "    </tr>\n",
       "    <tr>\n",
       "      <th>2</th>\n",
       "      <td>2</td>\n",
       "      <td>31</td>\n",
       "      <td>1</td>\n",
       "      <td>?</td>\n",
       "      <td>1</td>\n",
       "      <td>2</td>\n",
       "      <td>2</td>\n",
       "      <td>2</td>\n",
       "      <td>2</td>\n",
       "      <td>2</td>\n",
       "      <td>2</td>\n",
       "      <td>2</td>\n",
       "      <td>2</td>\n",
       "      <td>2</td>\n",
       "      <td>0.70</td>\n",
       "      <td>46</td>\n",
       "      <td>52</td>\n",
       "      <td>4.0</td>\n",
       "      <td>80</td>\n",
       "      <td>1</td>\n",
       "    </tr>\n",
       "    <tr>\n",
       "      <th>3</th>\n",
       "      <td>2</td>\n",
       "      <td>34</td>\n",
       "      <td>1</td>\n",
       "      <td>2</td>\n",
       "      <td>2</td>\n",
       "      <td>2</td>\n",
       "      <td>2</td>\n",
       "      <td>2</td>\n",
       "      <td>2</td>\n",
       "      <td>2</td>\n",
       "      <td>2</td>\n",
       "      <td>2</td>\n",
       "      <td>2</td>\n",
       "      <td>2</td>\n",
       "      <td>1.00</td>\n",
       "      <td>?</td>\n",
       "      <td>200</td>\n",
       "      <td>4.0</td>\n",
       "      <td>?</td>\n",
       "      <td>1</td>\n",
       "    </tr>\n",
       "    <tr>\n",
       "      <th>4</th>\n",
       "      <td>2</td>\n",
       "      <td>34</td>\n",
       "      <td>1</td>\n",
       "      <td>2</td>\n",
       "      <td>2</td>\n",
       "      <td>2</td>\n",
       "      <td>2</td>\n",
       "      <td>2</td>\n",
       "      <td>2</td>\n",
       "      <td>2</td>\n",
       "      <td>2</td>\n",
       "      <td>2</td>\n",
       "      <td>2</td>\n",
       "      <td>2</td>\n",
       "      <td>0.90</td>\n",
       "      <td>95</td>\n",
       "      <td>28</td>\n",
       "      <td>4.0</td>\n",
       "      <td>75</td>\n",
       "      <td>1</td>\n",
       "    </tr>\n",
       "  </tbody>\n",
       "</table>\n",
       "</div>"
      ],
      "text/plain": [
       "   Class  Age  Gender Steroid  Antivirals Fatigue Malaise Anorexia LiverBig  \\\n",
       "0      2   50       1       1           2       1       2        2        1   \n",
       "1      2   78       1       2           2       1       2        2        2   \n",
       "2      2   31       1       ?           1       2       2        2        2   \n",
       "3      2   34       1       2           2       2       2        2        2   \n",
       "4      2   34       1       2           2       2       2        2        2   \n",
       "\n",
       "  LiverFirm SpleenPalpable Spiders Ascites Varices Bilirubin AlkPhosphate  \\\n",
       "0         2              2       2       2       2      0.90          135   \n",
       "1         2              2       2       2       2      0.70           96   \n",
       "2         2              2       2       2       2      0.70           46   \n",
       "3         2              2       2       2       2      1.00            ?   \n",
       "4         2              2       2       2       2      0.90           95   \n",
       "\n",
       "  SGOT Albumin Protime  Histology  \n",
       "0   42     3.5       ?          1  \n",
       "1   32     4.0       ?          1  \n",
       "2   52     4.0      80          1  \n",
       "3  200     4.0       ?          1  \n",
       "4   28     4.0      75          1  "
      ]
     },
     "execution_count": 5,
     "metadata": {},
     "output_type": "execute_result"
    }
   ],
   "source": [
    "#Verificando as 5 primeiras linhas\n",
    "data.head()"
   ]
  },
  {
   "cell_type": "code",
   "execution_count": 6,
   "metadata": {},
   "outputs": [
    {
     "data": {
      "text/plain": [
       "Class             0\n",
       "Age               0\n",
       "Gender            0\n",
       "Steroid           0\n",
       "Antivirals        0\n",
       "Fatigue           0\n",
       "Malaise           0\n",
       "Anorexia          0\n",
       "LiverBig          0\n",
       "LiverFirm         0\n",
       "SpleenPalpable    0\n",
       "Spiders           0\n",
       "Ascites           0\n",
       "Varices           0\n",
       "Bilirubin         0\n",
       "AlkPhosphate      0\n",
       "SGOT              0\n",
       "Albumin           0\n",
       "Protime           0\n",
       "Histology         0\n",
       "dtype: int64"
      ]
     },
     "execution_count": 6,
     "metadata": {},
     "output_type": "execute_result"
    }
   ],
   "source": [
    "#Verificando o numero de linhas nulas\n",
    "data.isnull().sum()"
   ]
  },
  {
   "cell_type": "code",
   "execution_count": 7,
   "metadata": {},
   "outputs": [],
   "source": [
    "#Substituindo a quantidade de ? no dataset\n",
    "data.replace('?', np.nan, inplace = True)"
   ]
  },
  {
   "cell_type": "code",
   "execution_count": 8,
   "metadata": {},
   "outputs": [
    {
     "data": {
      "text/plain": [
       "Class              0\n",
       "Age                0\n",
       "Gender             0\n",
       "Steroid            1\n",
       "Antivirals         0\n",
       "Fatigue            1\n",
       "Malaise            1\n",
       "Anorexia           1\n",
       "LiverBig          10\n",
       "LiverFirm         11\n",
       "SpleenPalpable     5\n",
       "Spiders            5\n",
       "Ascites            5\n",
       "Varices            5\n",
       "Bilirubin          6\n",
       "AlkPhosphate      29\n",
       "SGOT               4\n",
       "Albumin           16\n",
       "Protime           66\n",
       "Histology          0\n",
       "dtype: int64"
      ]
     },
     "execution_count": 8,
     "metadata": {},
     "output_type": "execute_result"
    }
   ],
   "source": [
    "data.isnull().sum()"
   ]
  },
  {
   "cell_type": "code",
   "execution_count": 9,
   "metadata": {},
   "outputs": [
    {
     "data": {
      "text/plain": [
       "(154, 20)"
      ]
     },
     "execution_count": 9,
     "metadata": {},
     "output_type": "execute_result"
    }
   ],
   "source": [
    "#Verificando a quantidade de linhas e colunas\n",
    "data.shape"
   ]
  },
  {
   "cell_type": "code",
   "execution_count": 10,
   "metadata": {},
   "outputs": [
    {
     "name": "stdout",
     "output_type": "stream",
     "text": [
      "A porcentagem de valores nulos da coluna Steroid é de 0.65 %\n",
      "A porcentagem de valores nulos da coluna Fatigue é de 0.65 %\n",
      "A porcentagem de valores nulos da coluna Malaise é de 0.65 %\n",
      "A porcentagem de valores nulos da coluna Anorexia é de 0.65 %\n",
      "A porcentagem de valores nulos da coluna LiverBig é de 6.49 %\n",
      "A porcentagem de valores nulos da coluna LiverFirm é de 7.14 %\n",
      "A porcentagem de valores nulos da coluna SpleenPalpable é de 3.25 %\n",
      "A porcentagem de valores nulos da coluna Spiders é de 3.25 %\n",
      "A porcentagem de valores nulos da coluna Ascites é de 3.25 %\n",
      "A porcentagem de valores nulos da coluna Varices é de 3.25 %\n",
      "A porcentagem de valores nulos da coluna Bilirubin é de 3.90 %\n",
      "A porcentagem de valores nulos da coluna AlkPhosphate é de 18.83 %\n",
      "A porcentagem de valores nulos da coluna SGOT é de 2.60 %\n",
      "A porcentagem de valores nulos da coluna Albumin é de 10.39 %\n",
      "A porcentagem de valores nulos da coluna Protime é de 42.86 %\n"
     ]
    }
   ],
   "source": [
    "#Verificando a quantidade de valores faltantes em porcentagem\n",
    "nulos = []\n",
    "for i in data.columns:\n",
    "    if data[i].isnull().sum() > 0:\n",
    "        porc = data[i].isnull().sum()/len(data)\n",
    "        res = porc*100\n",
    "        \n",
    "        print('A porcentagem de valores nulos da coluna {} é de {} %'.format(i,\"%.2f\" % res))\n"
   ]
  },
  {
   "cell_type": "code",
   "execution_count": 11,
   "metadata": {},
   "outputs": [],
   "source": [
    "#Substituindo os valores faltantes pela mediana, com exceção de  Protime\n",
    "def imputar_mediana(series):\n",
    "    return series.fillna(series.median())"
   ]
  },
  {
   "cell_type": "code",
   "execution_count": 12,
   "metadata": {},
   "outputs": [],
   "source": [
    "for i in data.columns:\n",
    "    if 0 < data[i].isnull().sum() < 30:\n",
    "        data[i] = data[i].transform(imputar_mediana)\n",
    "        "
   ]
  },
  {
   "cell_type": "code",
   "execution_count": 13,
   "metadata": {},
   "outputs": [
    {
     "data": {
      "text/plain": [
       "Class              0\n",
       "Age                0\n",
       "Gender             0\n",
       "Steroid            0\n",
       "Antivirals         0\n",
       "Fatigue            0\n",
       "Malaise            0\n",
       "Anorexia           0\n",
       "LiverBig           0\n",
       "LiverFirm          0\n",
       "SpleenPalpable     0\n",
       "Spiders            0\n",
       "Ascites            0\n",
       "Varices            0\n",
       "Bilirubin          0\n",
       "AlkPhosphate       0\n",
       "SGOT               0\n",
       "Albumin            0\n",
       "Protime           66\n",
       "Histology          0\n",
       "dtype: int64"
      ]
     },
     "execution_count": 13,
     "metadata": {},
     "output_type": "execute_result"
    }
   ],
   "source": [
    "data.isnull().sum()"
   ]
  },
  {
   "cell_type": "code",
   "execution_count": 14,
   "metadata": {},
   "outputs": [],
   "source": [
    "#Retirar a coluna Protime, pois há muitos dados faltantes\n",
    "data = data.drop('Protime', axis = 1)"
   ]
  },
  {
   "cell_type": "code",
   "execution_count": 15,
   "metadata": {},
   "outputs": [
    {
     "data": {
      "image/png": "[encoded data removed]",
      "text/plain": [
       "<Figure size 1080x648 with 2 Axes>"
      ]
     },
     "metadata": {
      "needs_background": "light"
     },
     "output_type": "display_data"
    }
   ],
   "source": [
    "# Cria o mapa de calor com a matriz de correlação\n",
    "corr = data.corr()\n",
    "f, ax = plt.subplots(figsize = (15, 9))\n",
    "sns.heatmap(corr, vmax = 1, square = True,annot = True, cmap = 'rainbow')\n",
    "plt.show()"
   ]
  },
  {
   "cell_type": "code",
   "execution_count": 16,
   "metadata": {},
   "outputs": [
    {
     "name": "stdout",
     "output_type": "stream",
     "text": [
      "<class 'pandas.core.frame.DataFrame'>\n",
      "RangeIndex: 154 entries, 0 to 153\n",
      "Data columns (total 19 columns):\n",
      " #   Column          Non-Null Count  Dtype \n",
      "---  ------          --------------  ----- \n",
      " 0   Class           154 non-null    int64 \n",
      " 1   Age             154 non-null    int64 \n",
      " 2   Gender          154 non-null    int64 \n",
      " 3   Steroid         154 non-null    object\n",
      " 4   Antivirals      154 non-null    int64 \n",
      " 5   Fatigue         154 non-null    object\n",
      " 6   Malaise         154 non-null    object\n",
      " 7   Anorexia        154 non-null    object\n",
      " 8   LiverBig        154 non-null    object\n",
      " 9   LiverFirm       154 non-null    object\n",
      " 10  SpleenPalpable  154 non-null    object\n",
      " 11  Spiders         154 non-null    object\n",
      " 12  Ascites         154 non-null    object\n",
      " 13  Varices         154 non-null    object\n",
      " 14  Bilirubin       154 non-null    object\n",
      " 15  AlkPhosphate    154 non-null    object\n",
      " 16  SGOT            154 non-null    object\n",
      " 17  Albumin         154 non-null    object\n",
      " 18  Histology       154 non-null    int64 \n",
      "dtypes: int64(5), object(14)\n",
      "memory usage: 23.0+ KB\n"
     ]
    }
   ],
   "source": [
    "data.info()"
   ]
  },
  {
   "cell_type": "code",
   "execution_count": 17,
   "metadata": {},
   "outputs": [],
   "source": [
    "# Variáveis quantitativas\n",
    "int_cols = ['Age', \n",
    "            'Gender', \n",
    "            'Steroid',\n",
    "            'Antivirals',\n",
    "            'Histology']"
   ]
  },
  {
   "cell_type": "code",
   "execution_count": 18,
   "metadata": {},
   "outputs": [],
   "source": [
    "# Primeiro filtramos as variáveis do tipo inteiro\n",
    "dataset_clean = data.drop(int_cols, axis = 1)"
   ]
  },
  {
   "cell_type": "code",
   "execution_count": 19,
   "metadata": {},
   "outputs": [],
   "source": [
    "# colocamos os valores das variáveis binárias como float\n",
    "for col in dataset_clean.columns:\n",
    "    dataset_clean[col] = dataset_clean[col].apply(lambda x: float(x))"
   ]
  },
  {
   "cell_type": "code",
   "execution_count": 20,
   "metadata": {},
   "outputs": [],
   "source": [
    "# Função\n",
    "def cramers_v(x, y):\n",
    "    confusion_matrix = pd.crosstab(x, y)\n",
    "    \n",
    "    # Teste qui-quadrado de independência de variáveis em uma tabela de contingência.\n",
    "    chi2 = ss.chi2_contingency(confusion_matrix)[0]\n",
    "    n = confusion_matrix.sum().sum()\n",
    "    phi2 = chi2/n\n",
    "    r,k = confusion_matrix.shape\n",
    "    phi2corr = max(0, phi2-((k-1)*(r-1))/(n-1))\n",
    "    rcorr = r-((r-1)**2)/(n-1)\n",
    "    kcorr = k-((k-1)**2)/(n-1)\n",
    "    return np.sqrt(phi2corr/min((kcorr-1),(rcorr-1)))"
   ]
  },
  {
   "cell_type": "code",
   "execution_count": 21,
   "metadata": {},
   "outputs": [],
   "source": [
    "# Lista\n",
    "categorical_vars = []\n",
    "\n",
    "# Loop\n",
    "for column in dataset_clean:\n",
    "    categorical_vars.append(column)"
   ]
  },
  {
   "cell_type": "code",
   "execution_count": 22,
   "metadata": {},
   "outputs": [
    {
     "name": "stdout",
     "output_type": "stream",
     "text": [
      "\n",
      "A Associação é um resultado no intervalo de [0,1], em que 0 significa nenhuma associação e 1 é associação completa.\n",
      "\n",
      "\n",
      "Associação da Variável Class com a variável resposta: 0.9801455662417283\n",
      "Associação da Variável Fatigue com a variável resposta: 0.2760525460614154\n",
      "Associação da Variável Malaise com a variável resposta: 0.31218858803824256\n",
      "Associação da Variável Anorexia com a variável resposta: 0.07841535311048083\n",
      "Associação da Variável LiverBig com a variável resposta: 0.0\n",
      "Associação da Variável LiverFirm com a variável resposta: 0.0\n",
      "Associação da Variável SpleenPalpable com a variável resposta: 0.19750344467573702\n",
      "Associação da Variável Spiders com a variável resposta: 0.3630260231375749\n",
      "Associação da Variável Ascites com a variável resposta: 0.4389046973297227\n",
      "Associação da Variável Varices com a variável resposta: 0.32796109525410116\n",
      "Associação da Variável Bilirubin com a variável resposta: 0.48038584466196316\n",
      "Associação da Variável AlkPhosphate com a variável resposta: 0.19335441005350842\n",
      "Associação da Variável SGOT com a variável resposta: 0.0\n",
      "Associação da Variável Albumin com a variável resposta: 0.4827382327116808\n"
     ]
    }
   ],
   "source": [
    "# Variável alvo\n",
    "y = 'Class'\n",
    "\n",
    "# Print\n",
    "print('\\nA Associação é um resultado no intervalo de [0,1], em que 0 significa nenhuma associação e 1 é associação completa.')\n",
    "print('\\n')\n",
    "\n",
    "# Loop\n",
    "for var in categorical_vars:\n",
    "    print('Associação da Variável ' + var + ' com a variável resposta:', \n",
    "          cramers_v(dataset_clean[var], dataset_clean[y]))"
   ]
  },
  {
   "cell_type": "code",
   "execution_count": 23,
   "metadata": {},
   "outputs": [],
   "source": [
    "#Retiraremos as colunas que não possuem associação com a variável resposta\n",
    "data = data.drop('LiverBig', axis = 1)\n",
    "data = data.drop('LiverFirm', axis = 1)\n",
    "data = data.drop('SGOT', axis = 1)"
   ]
  },
  {
   "cell_type": "code",
   "execution_count": 24,
   "metadata": {},
   "outputs": [
    {
     "data": {
      "text/plain": [
       "(154, 16)"
      ]
     },
     "execution_count": 24,
     "metadata": {},
     "output_type": "execute_result"
    }
   ],
   "source": [
    "#Formato \n",
    "data.shape"
   ]
  },
  {
   "cell_type": "code",
   "execution_count": 25,
   "metadata": {},
   "outputs": [
    {
     "name": "stdout",
     "output_type": "stream",
     "text": [
      "<class 'pandas.core.frame.DataFrame'>\n",
      "RangeIndex: 154 entries, 0 to 153\n",
      "Data columns (total 16 columns):\n",
      " #   Column          Non-Null Count  Dtype \n",
      "---  ------          --------------  ----- \n",
      " 0   Class           154 non-null    int64 \n",
      " 1   Age             154 non-null    int64 \n",
      " 2   Gender          154 non-null    int64 \n",
      " 3   Steroid         154 non-null    object\n",
      " 4   Antivirals      154 non-null    int64 \n",
      " 5   Fatigue         154 non-null    object\n",
      " 6   Malaise         154 non-null    object\n",
      " 7   Anorexia        154 non-null    object\n",
      " 8   SpleenPalpable  154 non-null    object\n",
      " 9   Spiders         154 non-null    object\n",
      " 10  Ascites         154 non-null    object\n",
      " 11  Varices         154 non-null    object\n",
      " 12  Bilirubin       154 non-null    object\n",
      " 13  AlkPhosphate    154 non-null    object\n",
      " 14  Albumin         154 non-null    object\n",
      " 15  Histology       154 non-null    int64 \n",
      "dtypes: int64(5), object(11)\n",
      "memory usage: 19.4+ KB\n"
     ]
    }
   ],
   "source": [
    "data.info()"
   ]
  },
  {
   "cell_type": "code",
   "execution_count": 26,
   "metadata": {},
   "outputs": [],
   "source": [
    "#Transformar em float\n",
    "cols = data.columns[data.dtypes.eq('object')]\n",
    "data[cols] = data[cols].apply(pd.to_numeric, errors = 'coerce')"
   ]
  },
  {
   "cell_type": "code",
   "execution_count": 27,
   "metadata": {},
   "outputs": [],
   "source": [
    "#transformar os valores 2 e 1 em 1 e 0\n",
    "\n",
    "data [['Class', 'Gender', 'Steroid', 'Antivirals','Fatigue','Malaise','Anorexia','SpleenPalpable','Spiders',\n",
    "         'Ascites','Varices','Histology']] = data [['Class', 'Gender', 'Steroid', 'Antivirals','Fatigue','Malaise','Anorexia','SpleenPalpable','Spiders',\n",
    "         'Ascites','Varices','Histology']].apply(pd.Series.replace, to_replace = 1, value = 0)\n",
    "\n",
    "data [['Class', 'Gender', 'Steroid', 'Antivirals','Fatigue','Malaise','Anorexia','SpleenPalpable','Spiders',\n",
    "         'Ascites','Varices','Histology']] = data [['Class', 'Gender', 'Steroid', 'Antivirals','Fatigue','Malaise','Anorexia','SpleenPalpable','Spiders',\n",
    "         'Ascites','Varices','Histology']].apply(pd.Series.replace, to_replace = 2, value = 1)"
   ]
  },
  {
   "cell_type": "code",
   "execution_count": 28,
   "metadata": {},
   "outputs": [
    {
     "data": {
      "text/html": [
       "<div>\n",
       "<style scoped>\n",
       "    .dataframe tbody tr th:only-of-type {\n",
       "        vertical-align: middle;\n",
       "    }\n",
       "\n",
       "    .dataframe tbody tr th {\n",
       "        vertical-align: top;\n",
       "    }\n",
       "\n",
       "    .dataframe thead th {\n",
       "        text-align: right;\n",
       "    }\n",
       "</style>\n",
       "<table border=\"1\" class=\"dataframe\">\n",
       "  <thead>\n",
       "    <tr style=\"text-align: right;\">\n",
       "      <th></th>\n",
       "      <th>Class</th>\n",
       "      <th>Age</th>\n",
       "      <th>Gender</th>\n",
       "      <th>Steroid</th>\n",
       "      <th>Antivirals</th>\n",
       "      <th>Fatigue</th>\n",
       "      <th>Malaise</th>\n",
       "      <th>Anorexia</th>\n",
       "      <th>SpleenPalpable</th>\n",
       "      <th>Spiders</th>\n",
       "      <th>Ascites</th>\n",
       "      <th>Varices</th>\n",
       "      <th>Bilirubin</th>\n",
       "      <th>AlkPhosphate</th>\n",
       "      <th>Albumin</th>\n",
       "      <th>Histology</th>\n",
       "    </tr>\n",
       "  </thead>\n",
       "  <tbody>\n",
       "    <tr>\n",
       "      <th>0</th>\n",
       "      <td>1</td>\n",
       "      <td>50</td>\n",
       "      <td>0</td>\n",
       "      <td>0.0</td>\n",
       "      <td>1</td>\n",
       "      <td>0.0</td>\n",
       "      <td>1.0</td>\n",
       "      <td>1.0</td>\n",
       "      <td>1.0</td>\n",
       "      <td>1.0</td>\n",
       "      <td>1.0</td>\n",
       "      <td>1.0</td>\n",
       "      <td>0.9</td>\n",
       "      <td>135.0</td>\n",
       "      <td>3.5</td>\n",
       "      <td>0</td>\n",
       "    </tr>\n",
       "    <tr>\n",
       "      <th>1</th>\n",
       "      <td>1</td>\n",
       "      <td>78</td>\n",
       "      <td>0</td>\n",
       "      <td>1.0</td>\n",
       "      <td>1</td>\n",
       "      <td>0.0</td>\n",
       "      <td>1.0</td>\n",
       "      <td>1.0</td>\n",
       "      <td>1.0</td>\n",
       "      <td>1.0</td>\n",
       "      <td>1.0</td>\n",
       "      <td>1.0</td>\n",
       "      <td>0.7</td>\n",
       "      <td>96.0</td>\n",
       "      <td>4.0</td>\n",
       "      <td>0</td>\n",
       "    </tr>\n",
       "    <tr>\n",
       "      <th>2</th>\n",
       "      <td>1</td>\n",
       "      <td>31</td>\n",
       "      <td>0</td>\n",
       "      <td>1.0</td>\n",
       "      <td>0</td>\n",
       "      <td>1.0</td>\n",
       "      <td>1.0</td>\n",
       "      <td>1.0</td>\n",
       "      <td>1.0</td>\n",
       "      <td>1.0</td>\n",
       "      <td>1.0</td>\n",
       "      <td>1.0</td>\n",
       "      <td>0.7</td>\n",
       "      <td>46.0</td>\n",
       "      <td>4.0</td>\n",
       "      <td>0</td>\n",
       "    </tr>\n",
       "    <tr>\n",
       "      <th>3</th>\n",
       "      <td>1</td>\n",
       "      <td>34</td>\n",
       "      <td>0</td>\n",
       "      <td>1.0</td>\n",
       "      <td>1</td>\n",
       "      <td>1.0</td>\n",
       "      <td>1.0</td>\n",
       "      <td>1.0</td>\n",
       "      <td>1.0</td>\n",
       "      <td>1.0</td>\n",
       "      <td>1.0</td>\n",
       "      <td>1.0</td>\n",
       "      <td>1.0</td>\n",
       "      <td>85.0</td>\n",
       "      <td>4.0</td>\n",
       "      <td>0</td>\n",
       "    </tr>\n",
       "    <tr>\n",
       "      <th>4</th>\n",
       "      <td>1</td>\n",
       "      <td>34</td>\n",
       "      <td>0</td>\n",
       "      <td>1.0</td>\n",
       "      <td>1</td>\n",
       "      <td>1.0</td>\n",
       "      <td>1.0</td>\n",
       "      <td>1.0</td>\n",
       "      <td>1.0</td>\n",
       "      <td>1.0</td>\n",
       "      <td>1.0</td>\n",
       "      <td>1.0</td>\n",
       "      <td>0.9</td>\n",
       "      <td>95.0</td>\n",
       "      <td>4.0</td>\n",
       "      <td>0</td>\n",
       "    </tr>\n",
       "  </tbody>\n",
       "</table>\n",
       "</div>"
      ],
      "text/plain": [
       "   Class  Age  Gender  Steroid  Antivirals  Fatigue  Malaise  Anorexia  \\\n",
       "0      1   50       0      0.0           1      0.0      1.0       1.0   \n",
       "1      1   78       0      1.0           1      0.0      1.0       1.0   \n",
       "2      1   31       0      1.0           0      1.0      1.0       1.0   \n",
       "3      1   34       0      1.0           1      1.0      1.0       1.0   \n",
       "4      1   34       0      1.0           1      1.0      1.0       1.0   \n",
       "\n",
       "   SpleenPalpable  Spiders  Ascites  Varices  Bilirubin  AlkPhosphate  \\\n",
       "0             1.0      1.0      1.0      1.0        0.9         135.0   \n",
       "1             1.0      1.0      1.0      1.0        0.7          96.0   \n",
       "2             1.0      1.0      1.0      1.0        0.7          46.0   \n",
       "3             1.0      1.0      1.0      1.0        1.0          85.0   \n",
       "4             1.0      1.0      1.0      1.0        0.9          95.0   \n",
       "\n",
       "   Albumin  Histology  \n",
       "0      3.5          0  \n",
       "1      4.0          0  \n",
       "2      4.0          0  \n",
       "3      4.0          0  \n",
       "4      4.0          0  "
      ]
     },
     "execution_count": 28,
     "metadata": {},
     "output_type": "execute_result"
    }
   ],
   "source": [
    "data.head()"
   ]
  },
  {
   "cell_type": "code",
   "execution_count": 29,
   "metadata": {},
   "outputs": [
    {
     "data": {
      "text/plain": [
       "<AxesSubplot:xlabel='Class', ylabel='count'>"
      ]
     },
     "execution_count": 29,
     "metadata": {},
     "output_type": "execute_result"
    },
    {
     "data": {
      "image/png": "[encoded data removed]",
      "text/plain": [
       "<Figure size 432x288 with 1 Axes>"
      ]
     },
     "metadata": {
      "needs_background": "light"
     },
     "output_type": "display_data"
    }
   ],
   "source": [
    "#Verificando o balanceamento da variável target\n",
    "sns.countplot(data['Class'])"
   ]
  },
  {
   "cell_type": "code",
   "execution_count": 30,
   "metadata": {},
   "outputs": [],
   "source": [
    "X = data.drop('Class', axis = 1)\n",
    "y = data.Class\n",
    "# Aplica a divisão com proporção 80/20\n",
    "X_treino, X_teste, y_treino, y_teste = train_test_split(X, y, test_size = 0.20, random_state = 101)"
   ]
  },
  {
   "cell_type": "code",
   "execution_count": 31,
   "metadata": {},
   "outputs": [
    {
     "data": {
      "text/plain": [
       "((123, 15), (31, 15), (123,), (31,))"
      ]
     },
     "execution_count": 31,
     "metadata": {},
     "output_type": "execute_result"
    }
   ],
   "source": [
    "X_treino.shape, X_teste.shape, y_treino.shape, y_teste.shape "
   ]
  },
  {
   "cell_type": "code",
   "execution_count": 32,
   "metadata": {},
   "outputs": [],
   "source": [
    "# Seed para reproduzir o mesmo resultado\n",
    "seed = 100\n",
    "\n",
    "\n",
    "# Cria o balanceador SMOTE\n",
    "smote_bal = SMOTE(random_state = seed)\n",
    "\n",
    "# Aplica o balanceador\n",
    "X_res, y_res = smote_bal.fit_resample(X_treino, y_treino)"
   ]
  },
  {
   "cell_type": "code",
   "execution_count": 33,
   "metadata": {},
   "outputs": [
    {
     "data": {
      "image/png": "[encoded data removed]",
      "text/plain": [
       "<Figure size 432x288 with 1 Axes>"
      ]
     },
     "metadata": {
      "needs_background": "light"
     },
     "output_type": "display_data"
    }
   ],
   "source": [
    "#Verificando o balanceamento da variável target\n",
    "sns.countplot(y_res, palette=\"Set2\")\n",
    "plt.box(False)\n",
    "plt.xlabel(\"Efeito do alcool Negativo (2) / Positivo (1)\", fontsize = 11)\n",
    "plt.ylabel(\"Total de Pacientes\", fontsize = 11)\n",
    "plt.title(\"Quantidade de Classes\\n\")\n",
    "plt.show()"
   ]
  },
  {
   "cell_type": "code",
   "execution_count": 34,
   "metadata": {},
   "outputs": [],
   "source": [
    "# Vamos padronizar as variáveis de entrada\n",
    "\n",
    "# Cria o padronizador\n",
    "scaler = StandardScaler()\n",
    "\n",
    "# Treina e aplica nos dados de treino\n",
    "X_treino_scaled = scaler.fit_transform(X_res.values)\n",
    "\n",
    "# Apenas aplica nos dados de teste\n",
    "X_teste_scaled = scaler.transform(X_teste.values)"
   ]
  },
  {
   "cell_type": "markdown",
   "metadata": {},
   "source": [
    "## V1 - Regressão Logística"
   ]
  },
  {
   "cell_type": "code",
   "execution_count": 35,
   "metadata": {},
   "outputs": [
    {
     "name": "stdout",
     "output_type": "stream",
     "text": [
      "Optimization terminated successfully.\n",
      "         Current function value: 0.250490\n",
      "         Iterations 9\n",
      "                           Logit Regression Results                           \n",
      "==============================================================================\n",
      "Dep. Variable:                  Class   No. Observations:                  184\n",
      "Model:                          Logit   Df Residuals:                      169\n",
      "Method:                           MLE   Df Model:                           14\n",
      "Date:                Mon, 07 Sep 2020   Pseudo R-squ.:                  0.6386\n",
      "Time:                        13:29:08   Log-Likelihood:                -46.090\n",
      "converged:                       True   LL-Null:                       -127.54\n",
      "Covariance Type:            nonrobust   LLR p-value:                 1.853e-27\n",
      "==============================================================================\n",
      "                 coef    std err          z      P>|z|      [0.025      0.975]\n",
      "------------------------------------------------------------------------------\n",
      "x1            -0.9223      0.334     -2.761      0.006      -1.577      -0.268\n",
      "x2             1.5773      0.613      2.574      0.010       0.376       2.778\n",
      "x3             0.6368      0.342      1.859      0.063      -0.034       1.308\n",
      "x4            -0.0312      0.282     -0.111      0.912      -0.585       0.522\n",
      "x5            -0.0143      0.430     -0.033      0.973      -0.857       0.829\n",
      "x6             0.3534      0.388      0.912      0.362      -0.406       1.113\n",
      "x7            -0.4263      0.331     -1.289      0.197      -1.075       0.222\n",
      "x8             0.1748      0.325      0.538      0.590      -0.462       0.811\n",
      "x9             1.1278      0.344      3.276      0.001       0.453       1.802\n",
      "x10            0.5242      0.458      1.144      0.253      -0.374       1.422\n",
      "x11            0.6343      0.368      1.724      0.085      -0.087       1.355\n",
      "x12           -1.7731      0.573     -3.093      0.002      -2.897      -0.650\n",
      "x13           -0.4429      0.325     -1.362      0.173      -1.080       0.194\n",
      "x14            0.6290      0.476      1.322      0.186      -0.303       1.561\n",
      "x15            0.4926      0.356      1.383      0.167      -0.205       1.191\n",
      "==============================================================================\n"
     ]
    }
   ],
   "source": [
    "modelo_v1 = sm.Logit(y_res,X_treino_scaled)\n",
    "modelo_v1_treino = modelo_v1.fit()\n",
    "#Utilizando o relatório do Statsmodel para análise\n",
    "print(modelo_v1_treino.summary())"
   ]
  },
  {
   "cell_type": "markdown",
   "metadata": {},
   "source": [
    "# V2 - Random Forest - Importância dos Atributos"
   ]
  },
  {
   "cell_type": "code",
   "execution_count": 36,
   "metadata": {},
   "outputs": [],
   "source": [
    "# Cria o modelo\n",
    "modelo_rfc = RandomForestClassifier()"
   ]
  },
  {
   "cell_type": "code",
   "execution_count": 37,
   "metadata": {},
   "outputs": [
    {
     "data": {
      "text/plain": [
       "RandomForestClassifier()"
      ]
     },
     "execution_count": 37,
     "metadata": {},
     "output_type": "execute_result"
    }
   ],
   "source": [
    "# Treina o modelo\n",
    "modelo_rfc.fit(X_treino_scaled, y_res)"
   ]
  },
  {
   "cell_type": "code",
   "execution_count": 38,
   "metadata": {},
   "outputs": [],
   "source": [
    "# Cria um dataframe com os resultados\n",
    "resultado_modelo_rfc = pd.DataFrame()\n",
    "resultado_modelo_rfc['Atributo'] = X_treino.columns\n",
    "resultado_modelo_rfc['Score'] = modelo_rfc.feature_importances_\n",
    "resultado_modelo_rfc.sort_values('Score', inplace = True, ascending = False)"
   ]
  },
  {
   "cell_type": "code",
   "execution_count": 39,
   "metadata": {},
   "outputs": [
    {
     "data": {
      "image/png": "[encoded data removed]",
      "text/plain": [
       "<Figure size 720x720 with 1 Axes>"
      ]
     },
     "metadata": {
      "needs_background": "light"
     },
     "output_type": "display_data"
    }
   ],
   "source": [
    "# Plot\n",
    "plt.figure(figsize = (10, 10))\n",
    "sns.set_color_codes(\"pastel\")\n",
    "sns.barplot(x = 'Score', y = 'Atributo', data = resultado_modelo_rfc, color = \"salmon\")\n",
    "plt.title('Importância de Variáveis - Random Forest', fontsize = 16, fontweight = 'bold', pad = 8)\n",
    "plt.savefig('RF.png', format='png')\n",
    "plt.show()"
   ]
  },
  {
   "cell_type": "code",
   "execution_count": 40,
   "metadata": {},
   "outputs": [
    {
     "name": "stdout",
     "output_type": "stream",
     "text": [
      "[[ 0  1]\n",
      " [ 4 26]]\n"
     ]
    }
   ],
   "source": [
    "# Previsões\n",
    "previsoes_v2 = modelo_rfc.predict(X_teste_scaled)\n",
    "matriz_v2 = confusion_matrix(y_teste, previsoes_v2)\n",
    "print(matriz_v2)"
   ]
  },
  {
   "cell_type": "code",
   "execution_count": 42,
   "metadata": {},
   "outputs": [
    {
     "name": "stdout",
     "output_type": "stream",
     "text": [
      "0.43333333333333335\n"
     ]
    }
   ],
   "source": [
    "# Score AUC\n",
    "print(roc_auc_score(y_teste, previsoes_v2))"
   ]
  },
  {
   "cell_type": "markdown",
   "metadata": {},
   "source": [
    "## V3 - Adaboost"
   ]
  },
  {
   "cell_type": "code",
   "execution_count": null,
   "metadata": {},
   "outputs": [],
   "source": [
    "#Cria o modelo\n",
    "ab = AdaBoostClassifier(random_state = 123)\n",
    "\n",
    "# Grid de parâmetros\n",
    "gridparam_ab = {'n_estimators': [100,200,500], 'learning_rate': [0.2,0.5,1.0],}\n",
    "\n",
    "# Grid Search\n",
    "modelo_ab = GridSearchCV(ab, cv = 3, param_grid = gridparam_ab)\n",
    "\n",
    "# Treinamento com Grid Search\n",
    "modelo_ab.fit(X_treino_scaled, Y_treino)\n",
    "\n",
    "# Previsões de classe\n",
    "ab_Y_pred = modelo_ab.predict(X_teste_scaled)\n",
    "\n",
    "# Previsões de probabilidade\n",
    "ab_predict_proba = modelo_ab.predict_proba(X_teste_scaled)[:,1] "
   ]
  },
  {
   "cell_type": "code",
   "execution_count": null,
   "metadata": {},
   "outputs": [],
   "source": []
  },
  {
   "cell_type": "code",
   "execution_count": null,
   "metadata": {},
   "outputs": [],
   "source": []
  },
  {
   "cell_type": "code",
   "execution_count": null,
   "metadata": {},
   "outputs": [],
   "source": []
  },
  {
   "cell_type": "code",
   "execution_count": null,
   "metadata": {},
   "outputs": [],
   "source": []
  }
 ],
 "metadata": {
  "kernelspec": {
   "display_name": "Python 3",
   "language": "python",
   "name": "python3"
  },
  "language_info": {
   "codemirror_mode": {
    "name": "ipython",
    "version": 3
   },
   "file_extension": ".py",
   "mimetype": "text/x-python",
   "name": "python",
   "nbconvert_exporter": "python",
   "pygments_lexer": "ipython3",
   "version": "3.7.6"
  }
 },
 "nbformat": 4,
 "nbformat_minor": 4
}
